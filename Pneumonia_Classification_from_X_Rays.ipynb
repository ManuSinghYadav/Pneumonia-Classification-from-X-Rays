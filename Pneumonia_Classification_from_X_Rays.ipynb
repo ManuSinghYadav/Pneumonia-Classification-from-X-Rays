{
  "nbformat": 4,
  "nbformat_minor": 0,
  "metadata": {
    "colab": {
      "provenance": [],
      "mount_file_id": "1NyPyWuc2Y2S1levvLpZZYdnkMR65AYB3",
      "authorship_tag": "ABX9TyPohGMucijPdiASeRmmIEnz",
      "include_colab_link": true
    },
    "kernelspec": {
      "name": "python3",
      "display_name": "Python 3"
    },
    "language_info": {
      "name": "python"
    }
  },
  "cells": [
    {
      "cell_type": "markdown",
      "metadata": {
        "id": "view-in-github",
        "colab_type": "text"
      },
      "source": [
        "<a href=\"https://colab.research.google.com/github/ManuSinghYadav/Pneumonia-Classification-from-X-Rays/blob/main/Pneumonia_Classification_from_X_Rays.ipynb\" target=\"_parent\"><img src=\"https://colab.research.google.com/assets/colab-badge.svg\" alt=\"Open In Colab\"/></a>"
      ]
    },
    {
      "cell_type": "markdown",
      "source": [
        "###Loading the Dataset & Image Preprocessing\n",
        "Dataset of Images can be downloaded from [here](https://www.kaggle.com/datasets/khoongweihao/covid19-xray-dataset-train-test-sets).\n",
        "\n",
        "Loaded the images from the drive after mounting it in our colab."
      ],
      "metadata": {
        "id": "M2Ql_w4kvYe0"
      }
    },
    {
      "cell_type": "code",
      "execution_count": 2,
      "metadata": {
        "id": "cWusWKpwvMs-"
      },
      "outputs": [],
      "source": [
        "import tensorflow as tf"
      ]
    },
    {
      "cell_type": "markdown",
      "source": [
        "Preprocessing of the training dataset."
      ],
      "metadata": {
        "id": "3YASdwzyzraX"
      }
    },
    {
      "cell_type": "code",
      "source": [
        "train_datagen = tf.keras.preprocessing.image.ImageDataGenerator(rescale = 1./255,\n",
        "                                   shear_range = 0.2,\n",
        "                                   zoom_range = 0.2,\n",
        "                                   horizontal_flip = True)\n",
        "\n",
        "training_set = train_datagen.flow_from_directory('/content/drive/MyDrive/Colab Notebooks/Pneumonia Dataset/train',\n",
        "                                                 target_size = (64, 64),\n",
        "                                                 batch_size = 32,\n",
        "                                                 class_mode = 'binary')"
      ],
      "metadata": {
        "colab": {
          "base_uri": "https://localhost:8080/"
        },
        "id": "U8f6zNDkxQrK",
        "outputId": "16f95639-9ecf-4d1f-d4aa-0dbfe7b59a14"
      },
      "execution_count": 3,
      "outputs": [
        {
          "output_type": "stream",
          "name": "stdout",
          "text": [
            "Found 148 images belonging to 2 classes.\n"
          ]
        }
      ]
    },
    {
      "cell_type": "markdown",
      "source": [
        "Preprocessing of the testing dataset."
      ],
      "metadata": {
        "id": "uMXqO-4FzYe7"
      }
    },
    {
      "cell_type": "code",
      "source": [
        "test_datagen = tf.keras.preprocessing.image.ImageDataGenerator(rescale = 1./255)\n",
        "test_set = test_datagen.flow_from_directory('/content/drive/MyDrive/Colab Notebooks/Pneumonia Dataset/test',\n",
        "                                            target_size = (64, 64),\n",
        "                                            batch_size = 32,\n",
        "                                            class_mode = 'binary')"
      ],
      "metadata": {
        "colab": {
          "base_uri": "https://localhost:8080/"
        },
        "id": "dxCE6gg_xxXy",
        "outputId": "311c3d35-c805-425e-b54b-efb48c162d95"
      },
      "execution_count": 5,
      "outputs": [
        {
          "output_type": "stream",
          "name": "stdout",
          "text": [
            "Found 40 images belonging to 2 classes.\n"
          ]
        }
      ]
    },
    {
      "cell_type": "markdown",
      "source": [
        "###Building & Training our CNN model"
      ],
      "metadata": {
        "id": "EP_m4IGlz3p6"
      }
    },
    {
      "cell_type": "code",
      "source": [
        "cnn = tf.keras.models.Sequential()\n",
        "cnn.add(tf.keras.layers.Conv2D(filters=32, kernel_size=3, activation='relu', input_shape=[64, 64, 3]))"
      ],
      "metadata": {
        "id": "RW-wGiuf0Dnb"
      },
      "execution_count": 7,
      "outputs": []
    },
    {
      "cell_type": "code",
      "source": [
        "cnn.add(tf.keras.layers.MaxPool2D(pool_size=2, strides=2))"
      ],
      "metadata": {
        "id": "5jDsgzW20QX3"
      },
      "execution_count": 8,
      "outputs": []
    },
    {
      "cell_type": "code",
      "source": [
        "cnn.add(tf.keras.layers.Flatten())"
      ],
      "metadata": {
        "id": "sOSx7ysx0UEK"
      },
      "execution_count": 9,
      "outputs": []
    },
    {
      "cell_type": "code",
      "source": [
        "cnn.add(tf.keras.layers.Dense(units=128, activation='relu'))"
      ],
      "metadata": {
        "id": "8UzLcB7k0Zxu"
      },
      "execution_count": 10,
      "outputs": []
    },
    {
      "cell_type": "code",
      "source": [
        "cnn.add(tf.keras.layers.Dense(units=1, activation='sigmoid'))"
      ],
      "metadata": {
        "id": "PV5aRBK00sQF"
      },
      "execution_count": 11,
      "outputs": []
    },
    {
      "cell_type": "code",
      "source": [
        "cnn.compile(optimizer = 'adam', loss = 'binary_crossentropy', metrics = ['accuracy'])\n",
        "cnn.fit(x = training_set, validation_data = test_set, epochs = 25)"
      ],
      "metadata": {
        "colab": {
          "base_uri": "https://localhost:8080/"
        },
        "id": "so4jrDvE1CbC",
        "outputId": "f830af27-d0be-499c-a363-2cf2f3f01b40"
      },
      "execution_count": 12,
      "outputs": [
        {
          "output_type": "stream",
          "name": "stdout",
          "text": [
            "Epoch 1/25\n",
            "5/5 [==============================] - 112s 22s/step - loss: 1.5895 - accuracy: 0.5608 - val_loss: 1.0256 - val_accuracy: 0.5000\n",
            "Epoch 2/25\n",
            "5/5 [==============================] - 7s 1s/step - loss: 0.7677 - accuracy: 0.6014 - val_loss: 0.3172 - val_accuracy: 0.9750\n",
            "Epoch 3/25\n",
            "5/5 [==============================] - 5s 1s/step - loss: 0.5687 - accuracy: 0.6554 - val_loss: 0.3251 - val_accuracy: 0.9750\n",
            "Epoch 4/25\n",
            "5/5 [==============================] - 6s 1s/step - loss: 0.4642 - accuracy: 0.7905 - val_loss: 0.2751 - val_accuracy: 0.9750\n",
            "Epoch 5/25\n",
            "5/5 [==============================] - 6s 1s/step - loss: 0.3916 - accuracy: 0.8446 - val_loss: 0.2710 - val_accuracy: 0.9250\n",
            "Epoch 6/25\n",
            "5/5 [==============================] - 5s 1s/step - loss: 0.3733 - accuracy: 0.8716 - val_loss: 0.1534 - val_accuracy: 0.9750\n",
            "Epoch 7/25\n",
            "5/5 [==============================] - 5s 1s/step - loss: 0.3756 - accuracy: 0.8176 - val_loss: 0.1230 - val_accuracy: 0.9750\n",
            "Epoch 8/25\n",
            "5/5 [==============================] - 5s 1s/step - loss: 0.3791 - accuracy: 0.8041 - val_loss: 0.1503 - val_accuracy: 0.9750\n",
            "Epoch 9/25\n",
            "5/5 [==============================] - 6s 1s/step - loss: 0.3052 - accuracy: 0.8581 - val_loss: 0.1053 - val_accuracy: 0.9750\n",
            "Epoch 10/25\n",
            "5/5 [==============================] - 6s 1s/step - loss: 0.2781 - accuracy: 0.8649 - val_loss: 0.1481 - val_accuracy: 0.9500\n",
            "Epoch 11/25\n",
            "5/5 [==============================] - 7s 1s/step - loss: 0.2886 - accuracy: 0.8784 - val_loss: 0.0966 - val_accuracy: 0.9750\n",
            "Epoch 12/25\n",
            "5/5 [==============================] - 6s 1s/step - loss: 0.2300 - accuracy: 0.9122 - val_loss: 0.1118 - val_accuracy: 0.9500\n",
            "Epoch 13/25\n",
            "5/5 [==============================] - 7s 1s/step - loss: 0.1854 - accuracy: 0.9257 - val_loss: 0.0754 - val_accuracy: 1.0000\n",
            "Epoch 14/25\n",
            "5/5 [==============================] - 5s 1s/step - loss: 0.2085 - accuracy: 0.9122 - val_loss: 0.1010 - val_accuracy: 0.9500\n",
            "Epoch 15/25\n",
            "5/5 [==============================] - 6s 1s/step - loss: 0.1892 - accuracy: 0.9459 - val_loss: 0.0659 - val_accuracy: 1.0000\n",
            "Epoch 16/25\n",
            "5/5 [==============================] - 7s 1s/step - loss: 0.1518 - accuracy: 0.9662 - val_loss: 0.0739 - val_accuracy: 0.9750\n",
            "Epoch 17/25\n",
            "5/5 [==============================] - 6s 1s/step - loss: 0.1702 - accuracy: 0.9189 - val_loss: 0.0647 - val_accuracy: 1.0000\n",
            "Epoch 18/25\n",
            "5/5 [==============================] - 5s 1s/step - loss: 0.1734 - accuracy: 0.9324 - val_loss: 0.0657 - val_accuracy: 1.0000\n",
            "Epoch 19/25\n",
            "5/5 [==============================] - 7s 2s/step - loss: 0.1642 - accuracy: 0.9527 - val_loss: 0.0864 - val_accuracy: 0.9750\n",
            "Epoch 20/25\n",
            "5/5 [==============================] - 5s 971ms/step - loss: 0.1768 - accuracy: 0.9527 - val_loss: 0.0869 - val_accuracy: 0.9750\n",
            "Epoch 21/25\n",
            "5/5 [==============================] - 7s 1s/step - loss: 0.1684 - accuracy: 0.9392 - val_loss: 0.0897 - val_accuracy: 1.0000\n",
            "Epoch 22/25\n",
            "5/5 [==============================] - 6s 1s/step - loss: 0.1931 - accuracy: 0.9257 - val_loss: 0.0933 - val_accuracy: 0.9500\n",
            "Epoch 23/25\n",
            "5/5 [==============================] - 5s 1s/step - loss: 0.1195 - accuracy: 0.9595 - val_loss: 0.0573 - val_accuracy: 1.0000\n",
            "Epoch 24/25\n",
            "5/5 [==============================] - 6s 1s/step - loss: 0.1636 - accuracy: 0.9392 - val_loss: 0.0676 - val_accuracy: 0.9750\n",
            "Epoch 25/25\n",
            "5/5 [==============================] - 6s 1s/step - loss: 0.1429 - accuracy: 0.9527 - val_loss: 0.0664 - val_accuracy: 0.9750\n"
          ]
        },
        {
          "output_type": "execute_result",
          "data": {
            "text/plain": [
              "<keras.src.callbacks.History at 0x7c467e747670>"
            ]
          },
          "metadata": {},
          "execution_count": 12
        }
      ]
    },
    {
      "cell_type": "markdown",
      "source": [
        "Our CNN model is now trained and its efficiency can be seen from the validation accuracy, which is around 100%."
      ],
      "metadata": {
        "id": "GrDVoa7d5VF8"
      }
    }
  ]
}