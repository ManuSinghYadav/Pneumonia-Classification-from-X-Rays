{
  "nbformat": 4,
  "nbformat_minor": 0,
  "metadata": {
    "colab": {
      "provenance": [],
      "mount_file_id": "1NyPyWuc2Y2S1levvLpZZYdnkMR65AYB3",
      "authorship_tag": "ABX9TyO4/vLT72vi9xAIVC2IMRVa",
      "include_colab_link": true
    },
    "kernelspec": {
      "name": "python3",
      "display_name": "Python 3"
    },
    "language_info": {
      "name": "python"
    }
  },
  "cells": [
    {
      "cell_type": "markdown",
      "metadata": {
        "id": "view-in-github",
        "colab_type": "text"
      },
      "source": [
        "<a href=\"https://colab.research.google.com/github/ManuSinghYadav/Pneumonia-Classification-from-X-Rays/blob/main/Pneumonia_Classification_from_X_Rays.ipynb\" target=\"_parent\"><img src=\"https://colab.research.google.com/assets/colab-badge.svg\" alt=\"Open In Colab\"/></a>"
      ]
    },
    {
      "cell_type": "markdown",
      "source": [
        "###Loading the Dataset & Image Preprocessing\n",
        "Dataset of Images can be downloaded from [here](https://www.kaggle.com/datasets/khoongweihao/covid19-xray-dataset-train-test-sets).\n",
        "\n",
        "Loaded the images from the drive after mounting it in our colab."
      ],
      "metadata": {
        "id": "M2Ql_w4kvYe0"
      }
    },
    {
      "cell_type": "code",
      "execution_count": 26,
      "metadata": {
        "id": "cWusWKpwvMs-"
      },
      "outputs": [],
      "source": [
        "import tensorflow as tf"
      ]
    },
    {
      "cell_type": "markdown",
      "source": [
        "Preprocessing of the training dataset."
      ],
      "metadata": {
        "id": "3YASdwzyzraX"
      }
    },
    {
      "cell_type": "code",
      "source": [
        "train_datagen = tf.keras.preprocessing.image.ImageDataGenerator(rescale = 1./255,\n",
        "                                   shear_range = 0.2,\n",
        "                                   zoom_range = 0.2,\n",
        "                                   horizontal_flip = True)\n",
        "\n",
        "training_set = train_datagen.flow_from_directory('/content/drive/MyDrive/Colab Notebooks/Pneumonia Dataset/train',\n",
        "                                                 target_size = (64, 64),\n",
        "                                                 batch_size = 32,\n",
        "                                                 class_mode = 'binary')"
      ],
      "metadata": {
        "colab": {
          "base_uri": "https://localhost:8080/"
        },
        "id": "U8f6zNDkxQrK",
        "outputId": "b72819ab-004e-4c4a-81a8-6604e0ab9029"
      },
      "execution_count": 27,
      "outputs": [
        {
          "output_type": "stream",
          "name": "stdout",
          "text": [
            "Found 148 images belonging to 2 classes.\n"
          ]
        }
      ]
    },
    {
      "cell_type": "markdown",
      "source": [
        "Preprocessing of the testing dataset."
      ],
      "metadata": {
        "id": "uMXqO-4FzYe7"
      }
    },
    {
      "cell_type": "code",
      "source": [
        "test_datagen = tf.keras.preprocessing.image.ImageDataGenerator(rescale = 1./255)\n",
        "test_set = test_datagen.flow_from_directory('/content/drive/MyDrive/Colab Notebooks/Pneumonia Dataset/test',\n",
        "                                            target_size = (64, 64),\n",
        "                                            batch_size = 32,\n",
        "                                            class_mode = 'binary')"
      ],
      "metadata": {
        "colab": {
          "base_uri": "https://localhost:8080/"
        },
        "id": "dxCE6gg_xxXy",
        "outputId": "d0431970-4d61-4553-b05e-6bf20eb7083d"
      },
      "execution_count": 28,
      "outputs": [
        {
          "output_type": "stream",
          "name": "stdout",
          "text": [
            "Found 40 images belonging to 2 classes.\n"
          ]
        }
      ]
    },
    {
      "cell_type": "markdown",
      "source": [
        "###Building & Training our CNN model"
      ],
      "metadata": {
        "id": "EP_m4IGlz3p6"
      }
    },
    {
      "cell_type": "code",
      "source": [
        "cnn = tf.keras.models.Sequential()\n",
        "cnn.add(tf.keras.layers.Conv2D(filters=32, kernel_size=3, activation='relu', input_shape=[64, 64, 3]))"
      ],
      "metadata": {
        "id": "RW-wGiuf0Dnb"
      },
      "execution_count": 29,
      "outputs": []
    },
    {
      "cell_type": "code",
      "source": [
        "cnn.add(tf.keras.layers.MaxPool2D(pool_size=2, strides=2))"
      ],
      "metadata": {
        "id": "5jDsgzW20QX3"
      },
      "execution_count": 30,
      "outputs": []
    },
    {
      "cell_type": "code",
      "source": [
        "cnn.add(tf.keras.layers.Flatten())"
      ],
      "metadata": {
        "id": "sOSx7ysx0UEK"
      },
      "execution_count": 31,
      "outputs": []
    },
    {
      "cell_type": "code",
      "source": [
        "cnn.add(tf.keras.layers.Dense(units=128, activation='relu'))"
      ],
      "metadata": {
        "id": "8UzLcB7k0Zxu"
      },
      "execution_count": 32,
      "outputs": []
    },
    {
      "cell_type": "code",
      "source": [
        "cnn.add(tf.keras.layers.Dense(units=1, activation='sigmoid'))"
      ],
      "metadata": {
        "id": "PV5aRBK00sQF"
      },
      "execution_count": 33,
      "outputs": []
    },
    {
      "cell_type": "code",
      "source": [
        "cnn.compile(optimizer = 'adam', loss = 'binary_crossentropy', metrics = ['accuracy'])\n",
        "cnn.fit(x = training_set, validation_data = test_set, epochs = 30)"
      ],
      "metadata": {
        "colab": {
          "base_uri": "https://localhost:8080/"
        },
        "id": "so4jrDvE1CbC",
        "outputId": "ae87f52c-bd2e-4b79-c406-56db6e48df15"
      },
      "execution_count": 34,
      "outputs": [
        {
          "output_type": "stream",
          "name": "stdout",
          "text": [
            "Epoch 1/30\n",
            "5/5 [==============================] - 8s 2s/step - loss: 2.1912 - accuracy: 0.5068 - val_loss: 0.4607 - val_accuracy: 0.6250\n",
            "Epoch 2/30\n",
            "5/5 [==============================] - 6s 1s/step - loss: 0.8663 - accuracy: 0.5878 - val_loss: 0.3335 - val_accuracy: 0.9000\n",
            "Epoch 3/30\n",
            "5/5 [==============================] - 6s 1s/step - loss: 0.5927 - accuracy: 0.7162 - val_loss: 0.3335 - val_accuracy: 0.9000\n",
            "Epoch 4/30\n",
            "5/5 [==============================] - 7s 1s/step - loss: 0.4526 - accuracy: 0.7973 - val_loss: 0.1753 - val_accuracy: 0.9750\n",
            "Epoch 5/30\n",
            "5/5 [==============================] - 6s 1s/step - loss: 0.3574 - accuracy: 0.8581 - val_loss: 0.1364 - val_accuracy: 0.9750\n",
            "Epoch 6/30\n",
            "5/5 [==============================] - 6s 1s/step - loss: 0.3346 - accuracy: 0.8581 - val_loss: 0.1172 - val_accuracy: 0.9750\n",
            "Epoch 7/30\n",
            "5/5 [==============================] - 7s 2s/step - loss: 0.3384 - accuracy: 0.8649 - val_loss: 0.1430 - val_accuracy: 0.9500\n",
            "Epoch 8/30\n",
            "5/5 [==============================] - 5s 1s/step - loss: 0.3284 - accuracy: 0.8649 - val_loss: 0.0895 - val_accuracy: 1.0000\n",
            "Epoch 9/30\n",
            "5/5 [==============================] - 7s 1s/step - loss: 0.2799 - accuracy: 0.8919 - val_loss: 0.1028 - val_accuracy: 0.9750\n",
            "Epoch 10/30\n",
            "5/5 [==============================] - 6s 1s/step - loss: 0.2932 - accuracy: 0.8784 - val_loss: 0.0929 - val_accuracy: 1.0000\n",
            "Epoch 11/30\n",
            "5/5 [==============================] - 6s 1s/step - loss: 0.2228 - accuracy: 0.9324 - val_loss: 0.0950 - val_accuracy: 0.9750\n",
            "Epoch 12/30\n",
            "5/5 [==============================] - 6s 1s/step - loss: 0.2155 - accuracy: 0.9324 - val_loss: 0.1231 - val_accuracy: 0.9500\n",
            "Epoch 13/30\n",
            "5/5 [==============================] - 6s 1s/step - loss: 0.2738 - accuracy: 0.8986 - val_loss: 0.0907 - val_accuracy: 0.9500\n",
            "Epoch 14/30\n",
            "5/5 [==============================] - 7s 1s/step - loss: 0.2389 - accuracy: 0.8986 - val_loss: 0.0695 - val_accuracy: 1.0000\n",
            "Epoch 15/30\n",
            "5/5 [==============================] - 5s 1s/step - loss: 0.2213 - accuracy: 0.9324 - val_loss: 0.0982 - val_accuracy: 0.9500\n",
            "Epoch 16/30\n",
            "5/5 [==============================] - 7s 1s/step - loss: 0.2286 - accuracy: 0.9189 - val_loss: 0.1061 - val_accuracy: 1.0000\n",
            "Epoch 17/30\n",
            "5/5 [==============================] - 5s 1s/step - loss: 0.2250 - accuracy: 0.9122 - val_loss: 0.0841 - val_accuracy: 0.9750\n",
            "Epoch 18/30\n",
            "5/5 [==============================] - 6s 1s/step - loss: 0.1910 - accuracy: 0.9324 - val_loss: 0.0747 - val_accuracy: 1.0000\n",
            "Epoch 19/30\n",
            "5/5 [==============================] - 6s 1s/step - loss: 0.1656 - accuracy: 0.9595 - val_loss: 0.0742 - val_accuracy: 0.9750\n",
            "Epoch 20/30\n",
            "5/5 [==============================] - 7s 1s/step - loss: 0.1448 - accuracy: 0.9595 - val_loss: 0.0684 - val_accuracy: 0.9750\n",
            "Epoch 21/30\n",
            "5/5 [==============================] - 8s 2s/step - loss: 0.1490 - accuracy: 0.9730 - val_loss: 0.0637 - val_accuracy: 1.0000\n",
            "Epoch 22/30\n",
            "5/5 [==============================] - 5s 1s/step - loss: 0.1630 - accuracy: 0.9459 - val_loss: 0.1289 - val_accuracy: 0.9250\n",
            "Epoch 23/30\n",
            "5/5 [==============================] - 6s 1s/step - loss: 0.1578 - accuracy: 0.9324 - val_loss: 0.0792 - val_accuracy: 1.0000\n",
            "Epoch 24/30\n",
            "5/5 [==============================] - 6s 1s/step - loss: 0.1662 - accuracy: 0.9392 - val_loss: 0.1100 - val_accuracy: 0.9500\n",
            "Epoch 25/30\n",
            "5/5 [==============================] - 7s 1s/step - loss: 0.1824 - accuracy: 0.9189 - val_loss: 0.0544 - val_accuracy: 1.0000\n",
            "Epoch 26/30\n",
            "5/5 [==============================] - 6s 1s/step - loss: 0.1501 - accuracy: 0.9527 - val_loss: 0.0558 - val_accuracy: 1.0000\n",
            "Epoch 27/30\n",
            "5/5 [==============================] - 7s 2s/step - loss: 0.1315 - accuracy: 0.9662 - val_loss: 0.0722 - val_accuracy: 0.9750\n",
            "Epoch 28/30\n",
            "5/5 [==============================] - 6s 1s/step - loss: 0.1257 - accuracy: 0.9797 - val_loss: 0.0531 - val_accuracy: 1.0000\n",
            "Epoch 29/30\n",
            "5/5 [==============================] - 6s 1s/step - loss: 0.1184 - accuracy: 0.9662 - val_loss: 0.0600 - val_accuracy: 0.9750\n",
            "Epoch 30/30\n",
            "5/5 [==============================] - 6s 1s/step - loss: 0.1105 - accuracy: 0.9730 - val_loss: 0.0451 - val_accuracy: 1.0000\n"
          ]
        },
        {
          "output_type": "execute_result",
          "data": {
            "text/plain": [
              "<keras.src.callbacks.History at 0x7a44cd11ba60>"
            ]
          },
          "metadata": {},
          "execution_count": 34
        }
      ]
    },
    {
      "cell_type": "markdown",
      "source": [
        "Our CNN model is now trained and its efficiency can be seen from the validation accuracy, which is close to 100%. **But our main goal is higer precision (lower false positive) and higher recall (lower false negative)**."
      ],
      "metadata": {
        "id": "GrDVoa7d5VF8"
      }
    },
    {
      "cell_type": "markdown",
      "source": [
        "###Testing our model seprately to calculate the precision and recall."
      ],
      "metadata": {
        "id": "9x2KyVg599Sa"
      }
    },
    {
      "cell_type": "code",
      "source": [
        "import numpy as np\n",
        "from keras.preprocessing import image"
      ],
      "metadata": {
        "id": "xOmhfQVW-M36"
      },
      "execution_count": 35,
      "outputs": []
    },
    {
      "cell_type": "code",
      "source": [
        "#Here all the test images are of PNEUMONIA, so here we're calculating the \"true-positive\" and \"false-negative\"\n",
        "\n",
        "import os\n",
        "\n",
        "file_list = os.listdir('/content/drive/MyDrive/Colab Notebooks/Pneumonia Dataset/test/PNEUMONIA')\n",
        "img_name = []\n",
        "flattened_features = []\n",
        "tp = 0\n",
        "fn = 0\n",
        "\n",
        "\n",
        "for i in file_list:\n",
        "  if i=='.ipynb_checkpoints':\n",
        "    continue\n",
        "  else:\n",
        "    a = '/content/drive/MyDrive/Colab Notebooks/Pneumonia Dataset/test/PNEUMONIA/{}'.format(i)\n",
        "    img = image.load_img(a, target_size = (64, 64))\n",
        "    img = image.img_to_array(img)\n",
        "    img = np.expand_dims(img, axis = 0)\n",
        "    result = cnn.predict(img/255.0)\n",
        "    if result[0][0] > 0.5:\n",
        "      prediction = 'Pneumonia'\n",
        "      tp = tp + 1\n",
        "    else:\n",
        "      prediction = 'Normal'\n",
        "      fn = fn + 1"
      ],
      "metadata": {
        "colab": {
          "base_uri": "https://localhost:8080/"
        },
        "id": "gC11vff_-LqI",
        "outputId": "e5c3dcbb-4a8d-47af-f595-6ee44e666a7e"
      },
      "execution_count": 36,
      "outputs": [
        {
          "output_type": "stream",
          "name": "stdout",
          "text": [
            "1/1 [==============================] - 0s 103ms/step\n",
            "1/1 [==============================] - 0s 42ms/step\n",
            "1/1 [==============================] - 0s 38ms/step\n",
            "1/1 [==============================] - 0s 34ms/step\n",
            "1/1 [==============================] - 0s 34ms/step\n",
            "1/1 [==============================] - 0s 35ms/step\n",
            "1/1 [==============================] - 0s 40ms/step\n",
            "1/1 [==============================] - 0s 46ms/step\n",
            "1/1 [==============================] - 0s 39ms/step\n",
            "1/1 [==============================] - 0s 41ms/step\n",
            "1/1 [==============================] - 0s 37ms/step\n",
            "1/1 [==============================] - 0s 36ms/step\n",
            "1/1 [==============================] - 0s 41ms/step\n",
            "1/1 [==============================] - 0s 38ms/step\n",
            "1/1 [==============================] - 0s 55ms/step\n",
            "1/1 [==============================] - 0s 39ms/step\n",
            "1/1 [==============================] - 0s 26ms/step\n",
            "1/1 [==============================] - 0s 28ms/step\n",
            "1/1 [==============================] - 0s 28ms/step\n",
            "1/1 [==============================] - 0s 31ms/step\n"
          ]
        }
      ]
    },
    {
      "cell_type": "code",
      "source": [
        "fn"
      ],
      "metadata": {
        "colab": {
          "base_uri": "https://localhost:8080/"
        },
        "id": "Db9j0dFACxax",
        "outputId": "736705cd-c712-4576-e507-28bf7813057b"
      },
      "execution_count": 37,
      "outputs": [
        {
          "output_type": "execute_result",
          "data": {
            "text/plain": [
              "0"
            ]
          },
          "metadata": {},
          "execution_count": 37
        }
      ]
    },
    {
      "cell_type": "code",
      "source": [
        "#Here all the test images are NORMAL, so here we're calculating the \"true-negative\" and \"false-positive\"\n",
        "\n",
        "import os\n",
        "tn = 0\n",
        "fp = 0\n",
        "\n",
        "file_list = os.listdir('/content/drive/MyDrive/Colab Notebooks/Pneumonia Dataset/test/NORMAL')\n",
        "img_name = []\n",
        "flattened_features = []\n",
        "\n",
        "\n",
        "for i in file_list:\n",
        "  if i=='.ipynb_checkpoints':\n",
        "    continue\n",
        "  else:\n",
        "    a = '/content/drive/MyDrive/Colab Notebooks/Pneumonia Dataset/test/NORMAL/{}'.format(i)\n",
        "    img = image.load_img(a, target_size = (64, 64))\n",
        "    img = image.img_to_array(img)\n",
        "    img = np.expand_dims(img, axis = 0)\n",
        "    result = cnn.predict(img/255.0)\n",
        "    if result[0][0] > 0.5:\n",
        "      prediction = 'Pneumonia'\n",
        "      fp = fp + 1\n",
        "    else:\n",
        "      prediction = 'Normal'\n",
        "      tn = tn + 1"
      ],
      "metadata": {
        "colab": {
          "base_uri": "https://localhost:8080/"
        },
        "id": "B00V3S4fCccJ",
        "outputId": "aaa38d9e-49cd-4917-eca7-cfe409eecf52"
      },
      "execution_count": 38,
      "outputs": [
        {
          "output_type": "stream",
          "name": "stdout",
          "text": [
            "1/1 [==============================] - 0s 28ms/step\n",
            "1/1 [==============================] - 0s 30ms/step\n",
            "1/1 [==============================] - 0s 28ms/step\n",
            "1/1 [==============================] - 0s 25ms/step\n",
            "1/1 [==============================] - 0s 33ms/step\n",
            "1/1 [==============================] - 0s 27ms/step\n",
            "1/1 [==============================] - 0s 31ms/step\n",
            "1/1 [==============================] - 0s 32ms/step\n",
            "1/1 [==============================] - 0s 31ms/step\n",
            "1/1 [==============================] - 0s 27ms/step\n",
            "1/1 [==============================] - 0s 25ms/step\n",
            "1/1 [==============================] - 0s 30ms/step\n",
            "1/1 [==============================] - 0s 30ms/step\n",
            "1/1 [==============================] - 0s 30ms/step\n",
            "1/1 [==============================] - 0s 30ms/step\n",
            "1/1 [==============================] - 0s 27ms/step\n",
            "1/1 [==============================] - 0s 26ms/step\n",
            "1/1 [==============================] - 0s 27ms/step\n",
            "1/1 [==============================] - 0s 27ms/step\n",
            "1/1 [==============================] - 0s 26ms/step\n"
          ]
        }
      ]
    },
    {
      "cell_type": "code",
      "source": [
        "print(\"True Positive: {}\\nTrue Negative: {}\\nFalse Positive: {}\\nFalse Negative: {}\".format(tp, tn, fp, fn))"
      ],
      "metadata": {
        "colab": {
          "base_uri": "https://localhost:8080/"
        },
        "id": "xPMZ0857E9Vz",
        "outputId": "1f4fd54b-3b86-449b-9f2a-a1e0e0cc8127"
      },
      "execution_count": 39,
      "outputs": [
        {
          "output_type": "stream",
          "name": "stdout",
          "text": [
            "True Positive: 20\n",
            "True Negative: 20\n",
            "False Positive: 0\n",
            "False Negative: 0\n"
          ]
        }
      ]
    },
    {
      "cell_type": "code",
      "source": [
        "precision = tp/(tp+fp)\n",
        "recall = tp/(tp+fn)\n",
        "\n",
        "print(\"Precision: {}\\nRecall: {}\".format(precision, recall))"
      ],
      "metadata": {
        "colab": {
          "base_uri": "https://localhost:8080/"
        },
        "id": "x_YYcjOoG2cu",
        "outputId": "0e6abb7e-1cd6-49c9-e02f-66893ed7c03c"
      },
      "execution_count": 40,
      "outputs": [
        {
          "output_type": "stream",
          "name": "stdout",
          "text": [
            "Precision: 1.0\n",
            "Recall: 1.0\n"
          ]
        }
      ]
    }
  ]
}